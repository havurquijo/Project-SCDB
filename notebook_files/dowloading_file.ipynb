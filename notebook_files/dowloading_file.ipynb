{
 "cells": [
  {
   "cell_type": "code",
   "execution_count": 6,
   "metadata": {},
   "outputs": [],
   "source": [
    "import numpy as np\n",
    "import pandas as pd\n",
    "import requests\n",
    "import zipfile\n",
    "import os"
   ]
  },
  {
   "cell_type": "code",
   "execution_count": 7,
   "metadata": {},
   "outputs": [
    {
     "name": "stdout",
     "output_type": "stream",
     "text": [
      "Download concluído com sucesso.\n"
     ]
    }
   ],
   "source": [
    "url='http://scdb.wustl.edu/_brickFiles/2023_01/SCDB_2023_01_justiceCentered_Citation.csv.zip'\n",
    "file_name_local = 'SCDB_2023_01_justiceCentered_Citation.csv.zip'\n",
    "\n",
    "response = requests.get(url)\n",
    "#Error managing\n",
    "if response.status_code == 200:\n",
    "    # Abrindo o arquivo local em modo de escrita binária (wb) e escreva o conteúdo baixado nele\n",
    "    with open(file_name_local, 'wb') as local_file:\n",
    "        local_file.write(response.content)\n",
    "    print('Download concluído com sucesso.')\n",
    "else:\n",
    "    print('Falha ao baixar o arquivo. Status code:', response.status_code)"
   ]
  },
  {
   "cell_type": "code",
   "execution_count": 8,
   "metadata": {},
   "outputs": [
    {
     "name": "stdout",
     "output_type": "stream",
     "text": [
      "File successfully extracted.\n"
     ]
    }
   ],
   "source": [
    "# Specify the path to the ZIP file\n",
    "zip_file_path = 'SCDB_2023_01_justiceCentered_Citation.csv.zip'\n",
    "\n",
    "# Specify the directory where you want to extract the contents\n",
    "extract_dir = 'SCDB_2023_01_justiceCentered_Citation/'\n",
    "\n",
    "# Create the directory if it doesn't exist\n",
    "os.makedirs(extract_dir, exist_ok=True)\n",
    "\n",
    "try:\n",
    "    # Open the ZIP file\n",
    "    with zipfile.ZipFile(zip_file_path, 'r') as zip_ref:\n",
    "        # Extract all the contents to the specified directory\n",
    "        zip_ref.extractall(extract_dir)\n",
    "    print('File successfully extracted.')\n",
    "except zipfile.BadZipFile:\n",
    "    print('Invalid ZIP file.')\n",
    "except zipfile.LargeZipFile:\n",
    "    print('ZIP file is too large.')\n",
    "except Exception as e:\n",
    "    print('An error occurred:', e)"
   ]
  },
  {
   "cell_type": "code",
   "execution_count": null,
   "metadata": {},
   "outputs": [],
   "source": []
  }
 ],
 "metadata": {
  "kernelspec": {
   "display_name": "Python 3",
   "language": "python",
   "name": "python3"
  },
  "language_info": {
   "codemirror_mode": {
    "name": "ipython",
    "version": 3
   },
   "file_extension": ".py",
   "mimetype": "text/x-python",
   "name": "python",
   "nbconvert_exporter": "python",
   "pygments_lexer": "ipython3",
   "version": "3.12.2"
  }
 },
 "nbformat": 4,
 "nbformat_minor": 2
}
